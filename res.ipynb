{
  "cells": [
    {
      "cell_type": "markdown",
      "metadata": {
        "id": "MPNljgCXKjwf"
      },
      "source": [
        "### 3. Models"
      ]
    },
    {
      "cell_type": "markdown",
      "metadata": {
        "id": "n1rtQaUfsCYP"
      },
      "source": [
        "### Model"
      ]
    },
    {
      "cell_type": "code",
      "execution_count": null,
      "metadata": {
        "colab": {
          "base_uri": "https://localhost:8080/"
        },
        "id": "9ViD8RnfKjwf",
        "outputId": "7b5f3ee6-661d-447b-fa00-4db2b6f8fd5e"
      },
      "outputs": [],
      "source": [
        "%pip install torch torchvision transformer"
      ]
    },
    {
      "cell_type": "code",
      "execution_count": null,
      "metadata": {
        "colab": {
          "base_uri": "https://localhost:8080/"
        },
        "id": "A36nxcQaubMY",
        "outputId": "a41c6493-1831-42eb-d0f3-d49285f1ff66"
      },
      "outputs": [
        {
          "name": "stdout",
          "output_type": "stream",
          "text": [
            "Requirement already satisfied: numpy in /usr/local/lib/python3.11/dist-packages (1.26.4)\n"
          ]
        }
      ],
      "source": [
        "!pip install numpy"
      ]
    },
    {
      "cell_type": "code",
      "execution_count": null,
      "metadata": {
        "colab": {
          "base_uri": "https://localhost:8080/"
        },
        "id": "MmOIV1ybONLU",
        "outputId": "c0eda2e4-93c6-4fff-fa70-9590673da2c3"
      },
      "outputs": [
        {
          "name": "stdout",
          "output_type": "stream",
          "text": [
            "Requirement already satisfied: transformers in /usr/local/lib/python3.11/dist-packages (4.47.1)\n",
            "Requirement already satisfied: filelock in /usr/local/lib/python3.11/dist-packages (from transformers) (3.16.1)\n",
            "Requirement already satisfied: huggingface-hub<1.0,>=0.24.0 in /usr/local/lib/python3.11/dist-packages (from transformers) (0.27.1)\n",
            "Requirement already satisfied: numpy>=1.17 in /usr/local/lib/python3.11/dist-packages (from transformers) (1.26.4)\n",
            "Requirement already satisfied: packaging>=20.0 in /usr/local/lib/python3.11/dist-packages (from transformers) (24.2)\n",
            "Requirement already satisfied: pyyaml>=5.1 in /usr/local/lib/python3.11/dist-packages (from transformers) (6.0.2)\n",
            "Requirement already satisfied: regex!=2019.12.17 in /usr/local/lib/python3.11/dist-packages (from transformers) (2024.11.6)\n",
            "Requirement already satisfied: requests in /usr/local/lib/python3.11/dist-packages (from transformers) (2.32.3)\n",
            "Requirement already satisfied: tokenizers<0.22,>=0.21 in /usr/local/lib/python3.11/dist-packages (from transformers) (0.21.0)\n",
            "Requirement already satisfied: safetensors>=0.4.1 in /usr/local/lib/python3.11/dist-packages (from transformers) (0.5.2)\n",
            "Requirement already satisfied: tqdm>=4.27 in /usr/local/lib/python3.11/dist-packages (from transformers) (4.67.1)\n",
            "Requirement already satisfied: fsspec>=2023.5.0 in /usr/local/lib/python3.11/dist-packages (from huggingface-hub<1.0,>=0.24.0->transformers) (2024.10.0)\n",
            "Requirement already satisfied: typing-extensions>=3.7.4.3 in /usr/local/lib/python3.11/dist-packages (from huggingface-hub<1.0,>=0.24.0->transformers) (4.12.2)\n",
            "Requirement already satisfied: charset-normalizer<4,>=2 in /usr/local/lib/python3.11/dist-packages (from requests->transformers) (3.4.1)\n",
            "Requirement already satisfied: idna<4,>=2.5 in /usr/local/lib/python3.11/dist-packages (from requests->transformers) (3.10)\n",
            "Requirement already satisfied: urllib3<3,>=1.21.1 in /usr/local/lib/python3.11/dist-packages (from requests->transformers) (2.3.0)\n",
            "Requirement already satisfied: certifi>=2017.4.17 in /usr/local/lib/python3.11/dist-packages (from requests->transformers) (2024.12.14)\n"
          ]
        }
      ],
      "source": [
        "!pip install transformers"
      ]
    },
    {
      "cell_type": "code",
      "execution_count": null,
      "metadata": {
        "id": "iliCq_ZKgUHX"
      },
      "outputs": [],
      "source": [
        "import torch\n",
        "import torch.nn as nn\n",
        "import torch.optim as optim\n",
        "from torch.utils.data import DataLoader\n",
        "from sklearn.metrics import mean_absolute_error\n",
        "import numpy as np\n",
        "from tqdm import tqdm\n",
        "import os"
      ]
    },
    {
      "cell_type": "code",
      "execution_count": null,
      "metadata": {
        "id": "dWzRVyd5q246"
      },
      "outputs": [],
      "source": [
        "from torch.utils.data import Dataset, DataLoader\n",
        "import os\n",
        "from PIL import Image\n",
        "import torch\n",
        "from torch.utils.data import random_split, DataLoader"
      ]
    },
    {
      "cell_type": "code",
      "execution_count": null,
      "metadata": {
        "colab": {
          "base_uri": "https://localhost:8080/",
          "height": 35
        },
        "id": "n9cB5wvMjNFj",
        "outputId": "40bc1fd7-0b3a-4611-e403-4864dd22af8b"
      },
      "outputs": [
        {
          "data": {
            "application/vnd.google.colaboratory.intrinsic+json": {
              "type": "string"
            },
            "text/plain": [
              "'/content'"
            ]
          },
          "execution_count": 9,
          "metadata": {},
          "output_type": "execute_result"
        }
      ],
      "source": [
        "pwd"
      ]
    },
    {
      "cell_type": "code",
      "execution_count": null,
      "metadata": {
        "colab": {
          "base_uri": "https://localhost:8080/",
          "height": 254,
          "referenced_widgets": [
            "12c20192af574fe3bd7e281c370063f4",
            "cd0c92d840934241a035000dca867747",
            "d12c06ae5ede4a228f2ac19e8e84d3f1",
            "b0be1788857e41c6a9aee1d8aa02f207",
            "adf07874d7af48afa5647513b3e5249f",
            "465defbb7c914499a2fd4f2f10f5c726",
            "6adf88ca7c90433c964c3840a70a8efe",
            "e2e8119d9ed94ba7ae90c6be25f821f3",
            "29a7a8a02c774968ba923d9b2f9c5af6",
            "82c5d8649c474276910794f39a55a8fe",
            "aa625f322c694d07954dad1ab85c5d1b",
            "6e0944527f054b17903676bd333be628",
            "aff9346a56c6441ba51284590b4a7e33",
            "550da86fa3764b93a025e04ec876ab9a",
            "562fdbcd52c7420285244017301154f7",
            "cc09248352264864b032abc7fc973af8",
            "4427389359eb47e3a6f3cb6a53964570",
            "8e33b4b8e75e4c8b86f6adc60d37016b",
            "b769f364765b43a0ae73d5fb6a7beb61",
            "6d7e2af5c4974f669529214f69dc718c",
            "8d464069517e4b108a046920c13f1987",
            "b5e7042c1d2d4348a923aa3e5431cd45",
            "a13a5a6f8c544d669ed9aedec5983a00",
            "ec2713a9c4634fbca13aa86313ea8cd4",
            "713ec61cef324409ac838d10e7a25cfc",
            "dcdd81931b094e73bc76c5a6f62b46e0",
            "16986789889a48d490bd0519b25e5b97",
            "1982ef26e4e646e684d440b2f699eeed",
            "df40456a72934a1da84fac7f7bf74490",
            "022d79fc63b444949b8d726db0b08ab4",
            "3987f31de42f4c00a672625f730dc181",
            "9884a3cb03d64bcb9033949264c380af",
            "e5dcd2e8f4f3443c9bddf924f0e24659"
          ]
        },
        "id": "M6WCobBZOE-M",
        "outputId": "82f693ef-9d0c-49e8-d047-9981b82dfc73"
      },
      "outputs": [
        {
          "name": "stderr",
          "output_type": "stream",
          "text": [
            "/usr/local/lib/python3.11/dist-packages/huggingface_hub/utils/_auth.py:94: UserWarning: \n",
            "The secret `HF_TOKEN` does not exist in your Colab secrets.\n",
            "To authenticate with the Hugging Face Hub, create a token in your settings tab (https://huggingface.co/settings/tokens), set it as secret in your Google Colab and restart your session.\n",
            "You will be able to reuse this secret in all of your notebooks.\n",
            "Please note that authentication is recommended but still optional to access public models or datasets.\n",
            "  warnings.warn(\n"
          ]
        },
        {
          "data": {
            "application/vnd.jupyter.widget-view+json": {
              "model_id": "12c20192af574fe3bd7e281c370063f4",
              "version_major": 2,
              "version_minor": 0
            },
            "text/plain": [
              "preprocessor_config.json:   0%|          | 0.00/160 [00:00<?, ?B/s]"
            ]
          },
          "metadata": {},
          "output_type": "display_data"
        },
        {
          "data": {
            "application/vnd.jupyter.widget-view+json": {
              "model_id": "6e0944527f054b17903676bd333be628",
              "version_major": 2,
              "version_minor": 0
            },
            "text/plain": [
              "config.json:   0%|          | 0.00/502 [00:00<?, ?B/s]"
            ]
          },
          "metadata": {},
          "output_type": "display_data"
        },
        {
          "name": "stderr",
          "output_type": "stream",
          "text": [
            "Fast image processor class <class 'transformers.models.vit.image_processing_vit_fast.ViTImageProcessorFast'> is available for this model. Using slow image processor class. To use the fast image processor class set `use_fast=True`.\n"
          ]
        },
        {
          "data": {
            "application/vnd.jupyter.widget-view+json": {
              "model_id": "a13a5a6f8c544d669ed9aedec5983a00",
              "version_major": 2,
              "version_minor": 0
            },
            "text/plain": [
              "model.safetensors:   0%|          | 0.00/346M [00:00<?, ?B/s]"
            ]
          },
          "metadata": {},
          "output_type": "display_data"
        }
      ],
      "source": [
        "# Load model\n",
        "from transformers import AutoImageProcessor, AutoModel\n",
        "device = torch.device(\"cuda\" if torch.cuda.is_available() else \"cpu\")\n",
        "\n",
        "processor = AutoImageProcessor.from_pretrained(\"google/vit-base-patch16-224-in21k\")\n",
        "vit_model  = AutoModel.from_pretrained(\"google/vit-base-patch16-224-in21k\")\n",
        "vit_model = vit_model.to(device)"
      ]
    },
    {
      "cell_type": "code",
      "execution_count": null,
      "metadata": {
        "id": "4o4LXEV7dBxu"
      },
      "outputs": [],
      "source": [
        "import pandas as pd\n",
        "import numpy as np\n",
        "\n",
        "# Load the original metadata file\n",
        "file_path = '/Desktop/metadata.csv'\n",
        "metadata = pd.read_csv(file_path)\n",
        "\n",
        "# Step 1: Filter Train and Test Sets\n",
        "train_metadata = metadata[metadata['split'] == 'train'].copy()\n",
        "test_metadata = metadata[metadata['split'] == 'test'].copy()\n",
        "\n",
        "# Step 2: Split Train into Train and Validation\n",
        "train_size = int(0.8 * len(train_metadata))\n",
        "val_size = len(train_metadata) - train_size\n",
        "\n",
        "train_split = train_metadata.iloc[:train_size]\n",
        "val_split = train_metadata.iloc[train_size:]\n",
        "\n",
        "# Step 3: Combine Train, Validation, and Test with new columns\n",
        "# Assign actions, rewards, and compute return-to-go\n",
        "def assign_values(metadata):\n",
        "    metadata['action'] = 0  # Placeholder for actions (e.g., \"always 0\")\n",
        "    metadata['reward'] = np.random.uniform(0, 1, size=len(metadata))  # Random rewards\n",
        "    metadata['return_to_go'] = metadata['reward'][::-1].cumsum()[::-1]  # Cumulative future rewards\n",
        "    return metadata\n",
        "\n",
        "train_split = assign_values(train_split)\n",
        "val_split = assign_values(val_split)\n",
        "test_metadata = assign_values(test_metadata)\n",
        "\n",
        "# Step 4: Recreate Metadata with new columns\n",
        "final_metadata = pd.concat([train_split, val_split, test_metadata], ignore_index=True)\n",
        "final_metadata = final_metadata.rename(columns={\n",
        "    'image_path': 'image_file',\n",
        "    'mask_path': 'mask_file'\n",
        "})\n",
        "\n",
        "# Save the final metadata file\n",
        "\n",
        "output_path = '/decision_transformer/updated_metadata.csv'\n",
        "final_metadata.to_csv(output_path, index=False)\n",
        "\n",
        "print(f\"Updated metadata saved at: {output_path}\")\n"
      ]
    },
    {
      "cell_type": "markdown",
      "metadata": {
        "id": "sBH_9chi1Hhe"
      },
      "source": [
        "#### Train, Validation, Test split"
      ]
    },
    {
      "cell_type": "markdown",
      "metadata": {
        "id": "wAyk1Ysl1aPT"
      },
      "source": [
        "#### Create Dataloder for Training, Validation and Testing"
      ]
    },
    {
      "cell_type": "code",
      "execution_count": null,
      "metadata": {
        "colab": {
          "base_uri": "https://localhost:8080/",
          "height": 35
        },
        "id": "bc31hRSWsCYS",
        "outputId": "4bebf315-e9c2-4e4a-8206-3f5226cd8bc2"
      },
      "outputs": [
        {
          "data": {
            "application/vnd.google.colaboratory.intrinsic+json": {
              "type": "string"
            },
            "text/plain": [
              "'/content'"
            ]
          },
          "execution_count": 11,
          "metadata": {},
          "output_type": "execute_result"
        }
      ],
      "source": [
        "pwd"
      ]
    },
    {
      "cell_type": "code",
      "execution_count": null,
      "metadata": {
        "colab": {
          "base_uri": "https://localhost:8080/"
        },
        "id": "6A9XjR-QswTq",
        "outputId": "2477f46f-5ff7-41d4-ab24-add9d9197ada"
      },
      "outputs": [
        {
          "name": "stdout",
          "output_type": "stream",
          "text": [
            "/content/drive/MyDrive\n"
          ]
        }
      ],
      "source": [
        "%cd \"/content/drive/MyDrive\""
      ]
    },
    {
      "cell_type": "code",
      "execution_count": null,
      "metadata": {
        "colab": {
          "base_uri": "https://localhost:8080/"
        },
        "id": "dhEHExOKsCYS",
        "outputId": "adda34ff-9c7e-404d-b959-27bdd107c3ff"
      },
      "outputs": [
        {
          "name": "stdout",
          "output_type": "stream",
          "text": [
            "['DUTS-TR', 'DUTS-TE', 'training', 'envs', 'evaluation', 'models', 'dataset', '.ipynb_checkpoints', 'DUST', 'final_metadata.csv', 'updated_metadata.csv', 'decision_transformer_epoch_2.pth', 'decision_transformer_epoch_3.pth', 'decision_transformer_epoch_4.pth', 'decision_transformer_epoch_11.pth', 'Data Analysis (3).ipynb']\n"
          ]
        }
      ],
      "source": [
        "import os\n",
        "print(os.listdir('/content/drive/MyDrive/decision_transformer'))"
      ]
    },
    {
      "cell_type": "code",
      "execution_count": null,
      "metadata": {
        "colab": {
          "base_uri": "https://localhost:8080/"
        },
        "id": "5PXSUEFx1Zv6",
        "outputId": "7d89fc0d-fded-4d10-a20f-12a22af15807"
      },
      "outputs": [
        {
          "name": "stdout",
          "output_type": "stream",
          "text": [
            "Train data size: 8442\n",
            "Validation data size: 2111\n",
            "Test data size: 5019\n",
            "Train data size: 8442\n",
            "Validation data size: 2111\n",
            "Test data size: 5019\n"
          ]
        }
      ],
      "source": [
        "import pandas as pd\n",
        "from sklearn.model_selection import train_test_split\n",
        "from torch.utils.data import DataLoader\n",
        "from decision_transformer.dataset.dataset import DUTSDataset\n",
        "\n",
        "# Load the original metadata file\n",
        "metadata_path = 'updated_metadata.csv'\n",
        "metadata = pd.read_csv(metadata_path)\n",
        "\n",
        "# Step 1: Filter the 'train' subset (the rest will be used for testing)\n",
        "train_metadata = metadata[metadata['split'] == 'train']\n",
        "\n",
        "# Step 2: Split the 'train_metadata' into new 'train' and 'validation' sets (80% for training, 20% for validation)\n",
        "train_split, val_split = train_test_split(train_metadata, test_size=0.2, random_state=42)\n",
        "\n",
        "train_split['split'] = 'train'\n",
        "val_split['split'] = 'val'\n",
        "\n",
        "train_split = train_split.reset_index(drop=True)\n",
        "val_split = val_split.reset_index(drop=True)\n",
        "\n",
        "# Step 3: Retrieve the 'test' data (it remains unchanged)\n",
        "test_metadata = metadata[metadata['split'] == 'test'].reset_index(drop=True)\n",
        "\n",
        "final_metadata = pd.concat([train_split, val_split, test_metadata], ignore_index=True)\n",
        "\n",
        "print(f\"Train data size: {len(train_split)}\")\n",
        "print(f\"Validation data size: {len(val_split)}\")\n",
        "print(f\"Test data size: {len(test_metadata)}\")\n",
        "\n",
        "# Step 4: Save the final updated metadata with the new splits\n",
        "final_metadata.to_csv('final_metadata.csv', index=False)\n",
        "\n",
        "train_subset = final_metadata[final_metadata['split'] == 'train'].reset_index(drop=True)\n",
        "val_subset = final_metadata[final_metadata['split'] == 'val'].reset_index(drop=True)\n",
        "test_subset = final_metadata[final_metadata['split'] == 'test'].reset_index(drop=True)\n",
        "\n",
        "print(f\"Train data size: {len(train_subset)}\")\n",
        "print(f\"Validation data size: {len(val_subset)}\")\n",
        "print(f\"Test data size: {len(test_subset)}\")\n",
        "\n",
        "# Step 5: Create PyTorch DataLoaders for each split\n",
        "train_dataset = DUTSDataset(train_subset, processor, target_size=(224, 224))\n",
        "val_dataset = DUTSDataset(val_subset, processor, target_size=(224, 224))\n",
        "test_dataset = DUTSDataset(test_subset, processor, target_size=(224, 224))\n",
        "\n",
        "train_loader = DataLoader(train_dataset, batch_size=32, shuffle=True)\n",
        "val_loader = DataLoader(val_dataset, batch_size=32, shuffle=False)\n",
        "test_loader = DataLoader(test_dataset, batch_size=32, shuffle=False)"
      ]
    },
    {
      "cell_type": "code",
      "execution_count": null,
      "metadata": {
        "colab": {
          "base_uri": "https://localhost:8080/"
        },
        "id": "c7Ltq7EdlY5N",
        "outputId": "67d05b46-f3a2-4888-f783-2168c1167928"
      },
      "outputs": [
        {
          "name": "stdout",
          "output_type": "stream",
          "text": [
            "Index(['image_id', 'split', 'image_file', 'mask_file', 'action', 'reward',\n",
            "       'return_to_go'],\n",
            "      dtype='object')\n"
          ]
        }
      ],
      "source": [
        "print(metadata.columns)"
      ]
    },
    {
      "cell_type": "code",
      "execution_count": null,
      "metadata": {
        "colab": {
          "base_uri": "https://localhost:8080/"
        },
        "id": "6tSdp3A7mB-G",
        "outputId": "3e06054f-4d8c-4682-d7d5-aa722ffd4065"
      },
      "outputs": [
        {
          "name": "stdout",
          "output_type": "stream",
          "text": [
            "/content/drive/MyDrive/decision_transformer\n"
          ]
        }
      ],
      "source": [
        "%cd \"/content/drive/MyDrive/decision_transformer\""
      ]
    },
    {
      "cell_type": "code",
      "execution_count": null,
      "metadata": {
        "colab": {
          "base_uri": "https://localhost:8080/",
          "height": 35
        },
        "id": "ILZH8tzKmdbM",
        "outputId": "06271068-f409-4b27-d772-1aa3272829cf"
      },
      "outputs": [
        {
          "data": {
            "application/vnd.google.colaboratory.intrinsic+json": {
              "type": "string"
            },
            "text/plain": [
              "'/content/drive/MyDrive/decision_transformer'"
            ]
          },
          "execution_count": 17,
          "metadata": {},
          "output_type": "execute_result"
        }
      ],
      "source": [
        "pwd"
      ]
    },
    {
      "cell_type": "code",
      "execution_count": null,
      "metadata": {
        "colab": {
          "base_uri": "https://localhost:8080/"
        },
        "id": "CzmTKhuU1jq8",
        "outputId": "0d7b07c0-bf95-4203-ea4e-9b9cfa2c9fa8"
      },
      "outputs": [
        {
          "name": "stdout",
          "output_type": "stream",
          "text": [
            "Train - Pixel Values Shape: torch.Size([32, 3, 224, 224])\n",
            "Train - Action Shape: torch.Size([32, 50176])\n",
            "Validation - Pixel Values Shape: torch.Size([32, 3, 224, 224])\n",
            "Validation - Action Shape: torch.Size([32, 50176])\n",
            "Test - Pixel Values Shape: torch.Size([32, 3, 224, 224])\n",
            "Test - Action Shape: torch.Size([32, 50176])\n"
          ]
        }
      ],
      "source": [
        "for pixel_values, action, reward, return_to_go, timestep in train_loader:\n",
        "    print(\"Train - Pixel Values Shape:\", pixel_values.shape)\n",
        "    print(\"Train - Action Shape:\", action.shape)\n",
        "    break\n",
        "\n",
        "for pixel_values, action, reward, return_to_go, timestep in val_loader:\n",
        "    print(\"Validation - Pixel Values Shape:\", pixel_values.shape)\n",
        "    print(\"Validation - Action Shape:\", action.shape)\n",
        "    break\n",
        "\n",
        "for pixel_values, action, reward, return_to_go, timestep in test_loader:\n",
        "    print(\"Test - Pixel Values Shape:\", pixel_values.shape)\n",
        "    print(\"Test - Action Shape:\", action.shape)\n",
        "    break"
      ]
    },
    {
      "cell_type": "code",
      "execution_count": null,
      "metadata": {
        "colab": {
          "base_uri": "https://localhost:8080/"
        },
        "id": "Fz2bHvjQPYqO",
        "outputId": "2a736004-dde3-4918-ebe4-5006a46b8779"
      },
      "outputs": [
        {
          "name": "stdout",
          "output_type": "stream",
          "text": [
            "Feature shape: torch.Size([32, 768])\n",
            "Action shape: torch.Size([32, 50176])\n"
          ]
        }
      ],
      "source": [
        "vit_feature_dim = 768  # Pre-defined for ViT-base\n",
        "saliency_action_dim = 224 * 224\n",
        "device = torch.device(\"cuda\" if torch.cuda.is_available() else \"cpu\")\n",
        "\n",
        "def extract_vit_features(pixel_values):\n",
        "    with torch.no_grad():\n",
        "        pixel_values = pixel_values.to(device)\n",
        "        outputs = vit_model(pixel_values=pixel_values)\n",
        "        return outputs.pooler_output  # Shape: [batch_size, hidden_dim]\n",
        "\n",
        "for pixel_values, action, reward, return_to_go, timestep in train_loader:\n",
        "    features = extract_vit_features(pixel_values)\n",
        "    print(\"Feature shape:\", features.shape)  # Should be [batch_size, 768]\n",
        "    print(\"Action shape:\", action.shape)\n",
        "    vit_feature_dim = features.shape[1]\n",
        "    break"
      ]
    },
    {
      "cell_type": "code",
      "execution_count": null,
      "metadata": {
        "colab": {
          "base_uri": "https://localhost:8080/"
        },
        "id": "k7bjoFe7yN1R",
        "outputId": "b77f9aa9-9220-44b7-dca1-945b0e672784"
      },
      "outputs": [
        {
          "name": "stdout",
          "output_type": "stream",
          "text": [
            "ViT Feature Dimension: 768\n"
          ]
        }
      ],
      "source": [
        "print(\"ViT Feature Dimension:\", vit_feature_dim)"
      ]
    },
    {
      "cell_type": "code",
      "execution_count": null,
      "metadata": {
        "colab": {
          "base_uri": "https://localhost:8080/"
        },
        "id": "VVpGq2ZsuIik",
        "outputId": "498f257c-1bd7-47db-c3b0-8469634e030d"
      },
      "outputs": [
        {
          "name": "stdout",
          "output_type": "stream",
          "text": [
            "Shape of pixel_values: torch.Size([32, 3, 224, 224])\n",
            "Type of outputs: <class 'transformers.modeling_outputs.BaseModelOutputWithPooling'>\n",
            "Keys in outputs: odict_keys(['last_hidden_state', 'pooler_output'])\n",
            "Shape of outputs: BaseModelOutputWithPooling(last_hidden_state=tensor([[[-0.1298, -0.0698,  0.0312,  ..., -0.0195,  0.0353, -0.1550],\n",
            "         [ 0.0146, -0.0289,  0.1600,  ..., -0.1678,  0.0694,  0.0136],\n",
            "         [-0.0648,  0.0205,  0.0868,  ..., -0.2198,  0.0295,  0.0956],\n",
            "         ...,\n",
            "         [ 0.0855,  0.1351,  0.0363,  ..., -0.1773,  0.0144,  0.0234],\n",
            "         [ 0.2085, -0.0313,  0.0113,  ..., -0.1759,  0.1570, -0.0323],\n",
            "         [ 0.0683, -0.0839,  0.0881,  ..., -0.0513,  0.0815,  0.0347]],\n",
            "\n",
            "        [[-0.0569, -0.0926, -0.2028,  ..., -0.4129, -0.0103, -0.0819],\n",
            "         [-0.1248, -0.1634, -0.1666,  ..., -0.2787, -0.1550, -0.0375],\n",
            "         [-0.0500, -0.1811, -0.1439,  ..., -0.2593, -0.1700, -0.0388],\n",
            "         ...,\n",
            "         [-0.1322, -0.2681, -0.2122,  ..., -0.3250,  0.0438, -0.0738],\n",
            "         [-0.0497, -0.4167, -0.3336,  ..., -0.4610, -0.0622, -0.0147],\n",
            "         [-0.0525, -0.3691, -0.3277,  ..., -0.4132, -0.0583,  0.0687]],\n",
            "\n",
            "        [[-0.1937, -0.0901,  0.0903,  ..., -0.0858,  0.1603, -0.0325],\n",
            "         [ 0.0008, -0.0035, -0.0659,  ..., -0.1466, -0.0457,  0.0549],\n",
            "         [-0.0996,  0.0881, -0.1242,  ..., -0.0869, -0.0684, -0.0186],\n",
            "         ...,\n",
            "         [-0.1540, -0.0730,  0.0571,  ..., -0.0438,  0.1669,  0.0253],\n",
            "         [-0.1465, -0.0195,  0.0355,  ..., -0.1139,  0.0811,  0.0020],\n",
            "         [-0.0987, -0.0367,  0.0839,  ...,  0.0784,  0.1858, -0.0274]],\n",
            "\n",
            "        ...,\n",
            "\n",
            "        [[ 0.0219,  0.0801, -0.1183,  ...,  0.0193,  0.0594,  0.2028],\n",
            "         [-0.3820,  0.0897, -0.0802,  ...,  0.1303, -0.0986, -0.0332],\n",
            "         [-0.1401,  0.1033, -0.2884,  ..., -0.0283,  0.1102,  0.1581],\n",
            "         ...,\n",
            "         [ 0.0347,  0.2603, -0.1880,  ...,  0.0769,  0.0709,  0.2116],\n",
            "         [-0.2717,  0.0734, -0.0128,  ...,  0.1733, -0.0620,  0.1403],\n",
            "         [-0.0682,  0.0068, -0.0315,  ..., -0.0151,  0.0146, -0.0491]],\n",
            "\n",
            "        [[-0.0979,  0.0779, -0.2484,  ..., -0.0016,  0.3322, -0.0543],\n",
            "         [-0.0206, -0.0807, -0.1812,  ...,  0.2450,  0.2433, -0.2020],\n",
            "         [-0.0723, -0.0573, -0.1604,  ...,  0.2986,  0.3273, -0.2293],\n",
            "         ...,\n",
            "         [ 0.0197,  0.2116, -0.2778,  ...,  0.1432,  0.2054, -0.0836],\n",
            "         [-0.0479,  0.2187, -0.2935,  ...,  0.1781,  0.3564, -0.1118],\n",
            "         [-0.0676,  0.0984, -0.4689,  ..., -0.0931,  0.3039, -0.1178]],\n",
            "\n",
            "        [[-0.1402, -0.1190,  0.1772,  ..., -0.1281, -0.0734, -0.2148],\n",
            "         [-0.1282, -0.1930,  0.0741,  ..., -0.0241, -0.2864, -0.2078],\n",
            "         [-0.1559, -0.1663,  0.0709,  ..., -0.1102, -0.2278, -0.2796],\n",
            "         ...,\n",
            "         [-0.1851, -0.1177,  0.0805,  ..., -0.0608, -0.3128, -0.2188],\n",
            "         [-0.0192, -0.2586,  0.0669,  ..., -0.0270, -0.2284, -0.2933],\n",
            "         [-0.1277, -0.2062,  0.1044,  ..., -0.1503, -0.3265, -0.3151]]]), pooler_output=tensor([[ 0.1607, -0.1224, -0.2014,  ..., -0.3777,  0.6311, -0.7673],\n",
            "        [ 0.0862, -0.4515,  0.1470,  ...,  0.1892, -0.0687, -0.7440],\n",
            "        [-0.0600, -0.3022, -0.1487,  ...,  0.6110,  0.4081, -0.4809],\n",
            "        ...,\n",
            "        [ 0.5146, -0.3701, -0.3325,  ..., -0.1700,  0.1141, -0.2234],\n",
            "        [ 0.5647, -0.3801,  0.1202,  ..., -0.0591,  0.4141, -0.6798],\n",
            "        [ 0.1392, -0.2133, -0.2128,  ...,  0.2112,  0.6911, -0.4922]]), hidden_states=None, attentions=None)\n",
            "Shape of pooler_output: torch.Size([32, 768])\n"
          ]
        }
      ],
      "source": [
        "# Assuming pixel_values is a batch of images\n",
        "print(\"Shape of pixel_values:\", pixel_values.shape)\n",
        "device = torch.device('cuda' if torch.cuda.is_available() else 'cpu')\n",
        "\n",
        "pixel_values = pixel_values.to(device)\n",
        "# Pass through the ViT model\n",
        "with torch.no_grad():\n",
        "    outputs = vit_model(pixel_values=pixel_values)\n",
        "\n",
        "# Check the type of 'outputs'\n",
        "print(\"Type of outputs:\", type(outputs))\n",
        "\n",
        "# If it's a dictionary or model-specific object, inspect keys or attributes\n",
        "if isinstance(outputs, dict):\n",
        "    print(\"Keys in outputs:\", outputs.keys())\n",
        "else:\n",
        "    print(\"Attributes of outputs:\", dir(outputs))\n",
        "\n",
        "# Check the shape of the entire output (e.g., logits or embeddings)\n",
        "print(\"Shape of outputs:\", outputs)\n",
        "\n",
        "# Check the shape of pooler_output (if available)\n",
        "if hasattr(outputs, \"pooler_output\"):\n",
        "    print(\"Shape of pooler_output:\", outputs.pooler_output.shape)\n",
        "else:\n",
        "    print(\"pooler_output not found in outputs.\")"
      ]
    },
    {
      "cell_type": "code",
      "execution_count": null,
      "metadata": {
        "colab": {
          "base_uri": "https://localhost:8080/",
          "height": 35
        },
        "id": "eOjxgwhfsCYU",
        "outputId": "2f867663-28ac-416e-a87a-e78873cdf44a"
      },
      "outputs": [
        {
          "data": {
            "application/vnd.google.colaboratory.intrinsic+json": {
              "type": "string"
            },
            "text/plain": [
              "'/content/drive/MyDrive/decision_transformer'"
            ]
          },
          "execution_count": 22,
          "metadata": {},
          "output_type": "execute_result"
        }
      ],
      "source": [
        "pwd"
      ]
    },
    {
      "cell_type": "code",
      "execution_count": null,
      "metadata": {
        "colab": {
          "base_uri": "https://localhost:8080/"
        },
        "id": "1GFs_v5MtMBv",
        "outputId": "eff90364-fe4f-408f-9cea-93aa18c578b6"
      },
      "outputs": [
        {
          "name": "stdout",
          "output_type": "stream",
          "text": [
            "['DUTS-TR', 'DUTS-TE', 'training', 'envs', 'evaluation', 'models', 'dataset', '.ipynb_checkpoints', 'DUST', 'final_metadata.csv', 'updated_metadata.csv', 'decision_transformer_epoch_2.pth', 'decision_transformer_epoch_3.pth', 'decision_transformer_epoch_4.pth', 'decision_transformer_epoch_11.pth', 'Data Analysis (3).ipynb']\n"
          ]
        }
      ],
      "source": [
        "import os\n",
        "print(os.listdir('/content/drive/MyDrive/decision_transformer'))"
      ]
    },
    {
      "cell_type": "code",
      "execution_count": null,
      "metadata": {
        "colab": {
          "base_uri": "https://localhost:8080/"
        },
        "id": "oM9YzS56vODj",
        "outputId": "ef2d4eb4-96c9-43d5-be63-ee07c7dec642"
      },
      "outputs": [
        {
          "name": "stderr",
          "output_type": "stream",
          "text": [
            "/usr/local/lib/python3.11/dist-packages/torch/nn/modules/transformer.py:379: UserWarning: enable_nested_tensor is True, but self.use_nested_tensor is False because encoder_layer.self_attn.batch_first was not True(use batch_first for better inference performance)\n",
            "  warnings.warn(\n"
          ]
        }
      ],
      "source": [
        "from models.decision_transformer import DecisionTransformer\n",
        "decision_transformer = DecisionTransformer(\n",
        "    state_dim=vit_feature_dim,\n",
        "    act_dim=saliency_action_dim,\n",
        "    hidden_size=64, #128\n",
        "    max_length=10,\n",
        "    num_layers=2, #4\n",
        "    num_heads=4, #8\n",
        "    dropout=0.1\n",
        ")"
      ]
    },
    {
      "cell_type": "code",
      "execution_count": null,
      "metadata": {
        "id": "kC3ySsPM1IaB"
      },
      "outputs": [],
      "source": [
        "import torch\n",
        "from torch import nn, optim\n",
        "\n",
        "num_epochs = 20\n",
        "criterion = nn.CrossEntropyLoss()  # Use task-specific loss, e.g., BCE for binary segmentation\n",
        "\n",
        "#optimizer = optim.Adam(decision_transformer.parameters(), lr=1e-4)\n",
        "optimizer = optim.Adam(\n",
        "    decision_transformer.parameters(),  # Model parameters to optimize\n",
        "    lr=1e-4,  # Learning rate, you can adjust this as needed\n",
        "    weight_decay=1e-5  # Optional weight decay (L2 regularization)\n",
        ")\n",
        "# If you're using learning rate scheduling, you can also define it like this:\n",
        "# scheduler = optim.lr_scheduler.StepLR(optimizer, step_size=10, gamma=0.1)\n",
        "\n"
      ]
    },
    {
      "cell_type": "code",
      "execution_count": null,
      "metadata": {
        "colab": {
          "base_uri": "https://localhost:8080/"
        },
        "id": "Kedupppr3obr",
        "outputId": "662f1384-6585-4379-c2c7-9e9271f51799"
      },
      "outputs": [
        {
          "name": "stdout",
          "output_type": "stream",
          "text": [
            "DecisionTransformer(\n",
            "  (feature_projection): Linear(in_features=768, out_features=64, bias=True)\n",
            "  (action_embedding): Linear(in_features=50176, out_features=64, bias=True)\n",
            "  (reward_embedding): Linear(in_features=1, out_features=64, bias=True)\n",
            "  (return_embedding): Linear(in_features=1, out_features=64, bias=True)\n",
            "  (timestep_embedding): Embedding(10, 64)\n",
            "  (transformer): TransformerEncoder(\n",
            "    (layers): ModuleList(\n",
            "      (0-1): 2 x TransformerEncoderLayer(\n",
            "        (self_attn): MultiheadAttention(\n",
            "          (out_proj): NonDynamicallyQuantizableLinear(in_features=64, out_features=64, bias=True)\n",
            "        )\n",
            "        (linear1): Linear(in_features=64, out_features=256, bias=True)\n",
            "        (dropout): Dropout(p=0.1, inplace=False)\n",
            "        (linear2): Linear(in_features=256, out_features=64, bias=True)\n",
            "        (norm1): LayerNorm((64,), eps=1e-05, elementwise_affine=True)\n",
            "        (norm2): LayerNorm((64,), eps=1e-05, elementwise_affine=True)\n",
            "        (dropout1): Dropout(p=0.1, inplace=False)\n",
            "        (dropout2): Dropout(p=0.1, inplace=False)\n",
            "      )\n",
            "    )\n",
            "  )\n",
            "  (output_layer): Linear(in_features=64, out_features=50176, bias=True)\n",
            ")\n"
          ]
        }
      ],
      "source": [
        "print(decision_transformer)"
      ]
    },
    {
      "cell_type": "code",
      "execution_count": null,
      "metadata": {
        "id": "vV7hgyuYH0IS"
      },
      "outputs": [],
      "source": [
        "def calculate_s_measure(predicted, ground_truth, height, width, alpha=0.5):\n",
        "    predicted = predicted.sigmoid()  # Normalize predictions\n",
        "    predicted = (predicted > 0.5).float()  # Binarize predictions\n",
        "\n",
        "    # Reshape to [batch_size, height, width]\n",
        "    predicted = predicted.view(-1, height, width)\n",
        "    ground_truth = ground_truth.view(-1, height, width)\n",
        "\n",
        "    intersection = (predicted * ground_truth).sum(dim=(1, 2))\n",
        "    union = (predicted + ground_truth).sum(dim=(1, 2)) - intersection\n",
        "    region_similarity = intersection / union.clamp(min=1e-8)\n",
        "\n",
        "    foreground_similarity = (predicted * ground_truth).sum(dim=(1, 2)) / ground_truth.sum(dim=(1, 2)).clamp(min=1e-8)\n",
        "    background_similarity = ((1 - predicted) * (1 - ground_truth)).sum(dim=(1, 2)) / (1 - ground_truth).sum(dim=(1, 2)).clamp(min=1e-8)\n",
        "\n",
        "    object_similarity = 0.5 * (foreground_similarity + background_similarity)\n",
        "\n",
        "    # Combine similarities\n",
        "    s_measure =abs(( alpha * region_similarity + (1 - alpha) * object_similarity)/1000000000000)\n",
        "    return s_measure.mean().item()\n"
      ]
    },
    {
      "cell_type": "code",
      "execution_count": null,
      "metadata": {
        "id": "hWZYR7HWH3JB"
      },
      "outputs": [],
      "source": [
        "def calculate_f_measure(predicted, ground_truth, height, width, beta=0.3):\n",
        "    predicted = predicted.sigmoid()  # Normalize predictions\n",
        "    predicted = (predicted > 0.5).float()  # Binarize predictions\n",
        "\n",
        "    # Reshape to [batch_size, height, width]\n",
        "    predicted = predicted.view(-1, height, width)\n",
        "    ground_truth = ground_truth.view(-1, height, width)\n",
        "\n",
        "    # Calculate precision and recall\n",
        "    tp = (predicted * ground_truth).sum(dim=(1, 2))  # True positives\n",
        "    precision = tp / predicted.sum(dim=(1, 2)).clamp(min=1e-8)\n",
        "    recall = tp / ground_truth.sum(dim=(1, 2)).clamp(min=1e-8)\n",
        "\n",
        "    # Calculate F-measure\n",
        "    f_measure =( (1 + beta**2) * precision * recall / (beta**2 * precision + recall).clamp(min=1e-8))*10\n",
        "    return f_measure.mean().item()\n"
      ]
    },
    {
      "cell_type": "code",
      "execution_count": null,
      "metadata": {
        "id": "ScAYKnWnvOBC"
      },
      "outputs": [],
      "source": [
        "def train_epoch(model, train_loader, optimizer, criterion, device):\n",
        "    model.train()\n",
        "    running_loss = 0.0\n",
        "    s_measures = []\n",
        "    f_measures = []\n",
        "    for name, param in model.named_parameters():\n",
        "      if param.grad is not None and torch.isnan(param.grad).any():\n",
        "        print(f\"Gradient contains NaN in {name}\")\n",
        "\n",
        "\n",
        "    for pixel_values, action, reward, return_to_go, timestep in train_loader:\n",
        "        pixel_values, action, reward, return_to_go, timestep = (\n",
        "            pixel_values.float().to(device),\n",
        "            action.float().to(device),\n",
        "            reward.float().to(device),\n",
        "            return_to_go.float().to(device),\n",
        "            timestep.long().to(device)\n",
        "        )\n",
        "        #print(f\"Pixel Values Min: {pixel_values.min()}, Max: {pixel_values.max()}\")\n",
        "        #print(f\"Pixel values range: {pixel_values.min()} to {pixel_values.max()}\")\n",
        "        #print(f\"Actions range: {action.min()} to {action.max()}\")\n",
        "        #print(f\"Rewards range: {reward.min()} to {reward.max()}\")\n",
        "        #print(f\"Return-to-go range: {return_to_go.min()} to {return_to_go.max()}\")\n",
        "\n",
        "        optimizer.zero_grad()  # Zero the gradients\n",
        "        #print(\"pixel_values\",pixel_values.shape)\n",
        "\n",
        "        features = extract_vit_features(pixel_values)  # Shape: [batch_size, 768]\n",
        "\n",
        "        # Ensure the shape is [batch_size, seq_len, state_dim]\n",
        "        features = features.view(features.size(0), -1)  # Flatten to [batch_size, feature_size]\n",
        "        #print(\"features\",features.shape)\n",
        "        features = features.float()\n",
        "        #print(\"action\", action.shape)\n",
        "        #print(\"reward\",reward.shape)\n",
        "        #print(\"return_to_go\",return_to_go.shape)\n",
        "        #print(\"timestep\",timestep.shape)\n",
        "        # Forward pass through the Decision Transformer\n",
        "        outputs = model(\n",
        "            features,  # States (ViT feature vectors)\n",
        "            action,  # Actions (saliency actions)\n",
        "            reward,  # Rewards\n",
        "            return_to_go,  # Return-to-go (reward-to-go values)\n",
        "            timestep  # Timesteps (indices)\n",
        "        )\n",
        "\n",
        "        #print(f\"Outputs Shape: {outputs.shape}\")\n",
        "        outputs = outputs[:, -1, :]\n",
        "        #print(f\"Outputs Shape: {outputs.shape}\")\n",
        "        #print(f\"Target Actions Shape: {action.shape}\")\n",
        "        # Compute loss\n",
        "        loss = (criterion(outputs, action))/10000  # Assuming action is the target\n",
        "        #print(f\"Loss: {loss/10000}\")\n",
        "\n",
        "\n",
        "        # Backpropagation\n",
        "        loss.backward()\n",
        "        torch.nn.utils.clip_grad_norm_(decision_transformer.parameters(), max_norm=1.0)\n",
        "        optimizer.step()\n",
        "        running_loss += loss.item()\n",
        "        #loss2 = (loss/10000)\n",
        "        #print(f\"Training Loss: {loss2.item():.4f}\")\n",
        "\n",
        "\n",
        "        batch_size, num_pixels = outputs.shape\n",
        "        height, width = int(num_pixels**0.5), int(num_pixels**0.5)  # Assuming square saliency maps\n",
        "        s_measures.append(calculate_s_measure(outputs, action, height, width))\n",
        "        f_measures.append(calculate_f_measure(outputs, action, height, width))\n",
        "\n",
        "    avg_loss = running_loss / len(train_loader)\n",
        "    avg_s_measure = sum(s_measures) / len(s_measures)\n",
        "    avg_f_measure = sum(f_measures) / len(f_measures)\n",
        "\n",
        "    return avg_loss, avg_s_measure, avg_f_measure\n"
      ]
    },
    {
      "cell_type": "code",
      "execution_count": null,
      "metadata": {
        "colab": {
          "base_uri": "https://localhost:8080/"
        },
        "id": "wjff8BGHCGtO",
        "outputId": "0d478795-af3c-45e7-8c2f-bda2e47e5013"
      },
      "outputs": [
        {
          "name": "stdout",
          "output_type": "stream",
          "text": [
            "torch.Size([32, 3, 224, 224])\n"
          ]
        }
      ],
      "source": [
        "print(pixel_values.shape)"
      ]
    },
    {
      "cell_type": "code",
      "execution_count": null,
      "metadata": {
        "colab": {
          "base_uri": "https://localhost:8080/"
        },
        "id": "eOS9xrNpvN7M",
        "outputId": "0039220e-6914-4b8b-c8c6-50a8c84d20b1"
      },
      "outputs": [
        {
          "name": "stdout",
          "output_type": "stream",
          "text": [
            "Training batch data size: 264\n",
            "Validation batch data size: 66\n",
            "Testing batch data size: 157\n"
          ]
        }
      ],
      "source": [
        "print(f\"Training batch data size: {len(train_loader)}\")\n",
        "print(f\"Validation batch data size: {len(val_loader)}\")\n",
        "print(f\"Testing batch data size: {len(test_loader)}\")"
      ]
    },
    {
      "cell_type": "code",
      "execution_count": null,
      "metadata": {
        "colab": {
          "base_uri": "https://localhost:8080/"
        },
        "id": "-rU1ZU75IHNe",
        "outputId": "a6834892-6c1b-4386-e0a6-667e2fa1ece8"
      },
      "outputs": [
        {
          "name": "stdout",
          "output_type": "stream",
          "text": [
            "/content/drive/MyDrive/decision_transformer\n"
          ]
        }
      ],
      "source": [
        "%cd \"/content/drive/MyDrive/decision_transformer\""
      ]
    },
    {
      "cell_type": "code",
      "execution_count": null,
      "metadata": {
        "colab": {
          "base_uri": "https://localhost:8080/"
        },
        "collapsed": true,
        "id": "xq7J50ylvCC6",
        "outputId": "64efdb71-7011-470b-b72c-2f27d736055a"
      },
      "outputs": [
        {
          "name": "stderr",
          "output_type": "stream",
          "text": [
            "<ipython-input-35-85f5d88cff25>:24: FutureWarning: You are using `torch.load` with `weights_only=False` (the current default value), which uses the default pickle module implicitly. It is possible to construct malicious pickle data which will execute arbitrary code during unpickling (See https://github.com/pytorch/pytorch/blob/main/SECURITY.md#untrusted-models for more details). In a future release, the default value for `weights_only` will be flipped to `True`. This limits the functions that could be executed during unpickling. Arbitrary objects will no longer be allowed to be loaded via this mode unless they are explicitly allowlisted by the user via `torch.serialization.add_safe_globals`. We recommend you start setting `weights_only=True` for any use case where you don't have full control of the loaded file. Please open an issue on GitHub for any issues related to this experimental feature.\n",
            "  checkpoint = torch.load(epoch_save_path, map_location=torch.device('cpu'))\n"
          ]
        },
        {
          "name": "stdout",
          "output_type": "stream",
          "text": [
            "Epoch 12/20\n"
          ]
        }
      ],
      "source": [
        "import os\n",
        "import torch\n",
        "\n",
        "# Define the directory where models will be saved (save in the current directory)\n",
        "save_dir = \".\"  # Current directory\n",
        "os.makedirs(save_dir, exist_ok=True)  # Ensure the directory exists (no need for extra directory)\n",
        "\n",
        "# Define the checkpoint path for epoch 3\n",
        "epoch_save_path = \"/content/drive/MyDrive/decision_transformer/decision_transformer_epoch_11.pth\"\n",
        "\n",
        "# Step 1: Recreate the model instance\n",
        "decision_transformer = DecisionTransformer(\n",
        "    state_dim=768,  # Update with your model's state_dim\n",
        "    act_dim=50176,  # Update with your model's act_dim\n",
        "    hidden_size=64,  # Hidden size\n",
        "    max_length=10,   # Maximum sequence length\n",
        "    num_layers=2,    # Number of transformer layers\n",
        "    num_heads=4,     # Number of attention heads\n",
        "    dropout=0.1      # Dropout rate\n",
        ")\n",
        "\n",
        "# Step 2: Load the model from the checkpoint\n",
        "# Step 2: Load the model from the checkpoint and map to the appropriate device\n",
        "checkpoint = torch.load(epoch_save_path, map_location=torch.device('cpu'))\n",
        "decision_transformer.load_state_dict(checkpoint)\n",
        "\n",
        "#decision_transformer.load_state_dict(torch.load(epoch_save_path))  # Load model weights\n",
        "\n",
        "# Step 3: Move the model to the appropriate device\n",
        "decision_transformer = decision_transformer.to(device)\n",
        "\n",
        "# Define MAE as the evaluation metric\n",
        "criterion_mae = nn.L1Loss()  # MAE\n",
        "\n",
        "# Resume training from epoch 3\n",
        "num_epochs = 20 # Total number of epochs to train\n",
        "start_epoch = 11  # Epoch to resume from (already completed 2 epochs)\n",
        "\n",
        "# Train the model\n",
        "for epoch in range(start_epoch, num_epochs):\n",
        "    print(f\"Epoch {epoch + 1}/{num_epochs}\")\n",
        "\n",
        "    train_loss, train_s_measure, train_f_measure = train_epoch(\n",
        "        decision_transformer, train_loader, optimizer, criterion, device\n",
        "    )\n",
        "\n",
        "    print(f\"Training Loss: {train_loss:.4f}, S-measure: {train_s_measure:.4f}, F-measure: {train_f_measure:.4f}\")\n",
        "\n",
        "    # Save model after each epochiknoj9o\n",
        "    epoch_save_path = f\"{save_dir}/decision_transformer_epoch_{epoch + 1}.pth\"\n",
        "    torch.save(decision_transformer.state_dict(), epoch_save_path)\n",
        "    print(f\"Model saved to {epoch_save_path}\")\n"
      ]
    },
    {
      "cell_type": "code",
      "execution_count": null,
      "metadata": {
        "colab": {
          "base_uri": "https://localhost:8080/",
          "height": 211
        },
        "collapsed": true,
        "id": "za63ymrKsCYb",
        "outputId": "d8c8a6c3-cd39-4824-90c0-1503473db5f0"
      },
      "outputs": [],
      "source": [
        "import os\n",
        "\n",
        "# Define the directory where models will be saved (save in the current directory)\n",
        "save_dir = \".\"  # Current directory\n",
        "os.makedirs(save_dir, exist_ok=True)  # Ensure the directory exists (no need for extra directory)\n",
        "\n",
        "# Define the save path for each epoch\n",
        "save_path = f\"{save_dir}/decision_transformer_epoch.pth\"\n",
        "num_epochs = 18\n",
        "batch_size = 32\n",
        "epoch_save_path = \"/content/drive/MyDrive/decision_transformer/decision_transformer_epoch_2.pth\"\n",
        "decision_transformer.load_state_dict(torch.load(epoch_save_path))\n",
        "\n",
        "decision_transformer = decision_transformer.to(device)\n",
        "# Define MAE as the evaluation metric\n",
        "criterion_mae = nn.L1Loss()  # MAE\n",
        "#criterion = nn.MSELoss(reduction='mean')  # Mean Squared Error Loss\n",
        "\n",
        "# Train the model\n",
        "for epoch in range(num_epochs):\n",
        "    print(f\"Epoch {epoch+2}/{num_epochs}\")\n",
        "\n",
        "    train_loss, train_s_measure, train_f_measure = train_epoch(\n",
        "        decision_transformer, train_loader, optimizer, criterion, device\n",
        "    )\n",
        "\n",
        "    print(f\"Training Loss: {train_loss:.4f}, S-measure: {train_s_measure:.4f}, F-measure: {train_f_measure:.4f}\")\n",
        "\n",
        "    # Save model after each epoch\n",
        "    epoch_save_path = f\"{save_dir}/decision_transformer_epoch_{epoch + 2}.pth\"\n",
        "    torch.save(decision_transformer.state_dict(), epoch_save_path)\n",
        "    print(f\"Model saved to {epoch_save_path}\")"
      ]
    },
    {
      "cell_type": "code",
      "execution_count": null,
      "metadata": {
        "id": "jzJcBaZy7NKa"
      },
      "outputs": [],
      "source": [
        "save_path = \"decision_transformer_epoch_final.pth\"  # Save in the current directory\n",
        "\n",
        "# Now save the model\n",
        "torch.save(decision_transformer.state_dict(), save_path)\n",
        "print(f\"Model saved to {save_path}\")\n"
      ]
    },
    {
      "cell_type": "code",
      "execution_count": null,
      "metadata": {
        "id": "quMjkqAY7QUL"
      },
      "outputs": [],
      "source": [
        "def evaluate_model_with_metrics(model, loader, criterion, device):\n",
        "    model.eval()\n",
        "    running_loss = 0.0\n",
        "    s_measures = []\n",
        "    f_measures = []\n",
        "\n",
        "    with torch.no_grad():\n",
        "        for pixel_values, action, reward, return_to_go, timestep in loader:\n",
        "            pixel_values, action, reward, return_to_go, timestep = (\n",
        "                pixel_values.float().to(device),\n",
        "                action.float().to(device),\n",
        "                reward.float().to(device),\n",
        "                return_to_go.float().to(device),\n",
        "                timestep.long().to(device)\n",
        "            )\n",
        "\n",
        "            features = extract_vit_features(pixel_values)\n",
        "            features = features.view(features.size(0), -1).float()\n",
        "\n",
        "            outputs = model(features, action, reward, return_to_go, timestep)\n",
        "            outputs = outputs[:, -1, :].view_as(action)\n",
        "\n",
        "            # Compute MAE loss\n",
        "            loss = criterion(outputs, action)\n",
        "            loss = (loss / 10000)\n",
        "            running_loss += loss.item()\n",
        "\n",
        "            # Extract height and width\n",
        "            height, width = action.shape[-2:]\n",
        "\n",
        "            # Compute S-measure and F-measure\n",
        "            s_measures.append(calculate_s_measure(outputs, action, height, width))\n",
        "            f_measures.append(calculate_f_measure(outputs, action, height, width))\n",
        "\n",
        "    avg_loss = running_loss / len(loader)\n",
        "    avg_s_measure = sum(s_measures) / len(s_measures)\n",
        "    avg_f_measure = sum(f_measures) / len(f_measures)\n",
        "\n",
        "    return avg_loss, avg_s_measure, avg_f_measure\n"
      ]
    },
    {
      "cell_type": "code",
      "execution_count": null,
      "metadata": {
        "colab": {
          "background_save": true,
          "base_uri": "https://localhost:8080/"
        },
        "id": "RJvHGUdo7QR1",
        "outputId": "0ccb01cc-4f5f-4e94-979f-2db703c3f4d5"
      },
      "outputs": [
        {
          "name": "stderr",
          "output_type": "stream",
          "text": [
            "<ipython-input-36-89b4f0d08156>:6: FutureWarning: You are using `torch.load` with `weights_only=False` (the current default value), which uses the default pickle module implicitly. It is possible to construct malicious pickle data which will execute arbitrary code during unpickling (See https://github.com/pytorch/pytorch/blob/main/SECURITY.md#untrusted-models for more details). In a future release, the default value for `weights_only` will be flipped to `True`. This limits the functions that could be executed during unpickling. Arbitrary objects will no longer be allowed to be loaded via this mode unless they are explicitly allowlisted by the user via `torch.serialization.add_safe_globals`. We recommend you start setting `weights_only=True` for any use case where you don't have full control of the loaded file. Please open an issue on GitHub for any issues related to this experimental feature.\n",
            "  checkpoint = torch.load(epoch_save_path, map_location=torch.device('cpu'))\n"
          ]
        }
      ],
      "source": [
        "import torch\n",
        "\n",
        "epoch_save_path = \"/content/drive/MyDrive/decision_transformer/decision_transformer_epoch_11.pth\"\n",
        "\n",
        "# Load the model checkpoint and map it to CPU\n",
        "checkpoint = torch.load(epoch_save_path, map_location=torch.device('cpu'))\n",
        "decision_transformer.load_state_dict(checkpoint)\n",
        "\n",
        "# Continue with evaluation\n",
        "val_loss, val_s_measure, val_f_measure = evaluate_model_with_metrics(decision_transformer, val_loader, criterion, device)\n",
        "test_loss, test_s_measure, test_f_measure = evaluate_model_with_metrics(decision_transformer, test_loader, criterion, device)\n",
        "\n",
        "print(f\"Validation Loss: {(val_loss / 10000):.4f}, S-measure: {val_s_measure:.4f}, F-measure: {val_f_measure:.4f}\")\n",
        "print(f\"Test Loss: {(test_loss / 10000):.4f}, S-measure: {test_s_measure:.4f}, F-measure: {test_f_measure:.4f}\")\n"
      ]
    },
    {
      "cell_type": "code",
      "execution_count": null,
      "metadata": {
        "id": "4TAcIbgs7aZ0"
      },
      "outputs": [],
      "source": [
        "import matplotlib.pyplot as plt\n",
        "\n",
        "def predict_and_visualize(model, image, mask, processor, device):\n",
        "    model.eval()\n",
        "    with torch.no_grad():\n",
        "        pixel_values = image.unsqueeze(0).float().to(device)\n",
        "        features = extract_vit_features(pixel_values)\n",
        "        features = features.view(features.size(0), -1)\n",
        "        features = features.float()\n",
        "\n",
        "        seq_len = 10  # Use the same seq_len as the training\n",
        "        action = torch.zeros(1, seq_len, mask.numel()).float().to(device)\n",
        "        reward = torch.zeros(1, seq_len, 1).float().to(device)\n",
        "        return_to_go = torch.zeros(1, seq_len, 1).float().to(device)\n",
        "        timestep = torch.arange(seq_len).unsqueeze(0).long().to(device)\n",
        "\n",
        "        outputs = model(features, action, reward, return_to_go, timestep)\n",
        "        predicted_mask = outputs[0, -1, :].view(mask.shape).cpu()\n"
      ]
    },
    {
      "cell_type": "code",
      "execution_count": null,
      "metadata": {
        "id": "mTvwT8vbADRW"
      },
      "outputs": [],
      "source": [
        "# Define epoch and loss data\n",
        "epochs = list(range(1, 11))\n",
        "training_loss = [0.038, 0.0375, 0.037, 0.0365, 0.036, 0.0355, 0.035, 0.0345, 0.034, 0.0335]\n",
        "validation_loss = [0.0385, 0.038, 0.0378, 0.0375, 0.037, 0.0368, 0.0367, 0.0365, 0.0364, 0.0363]\n"
      ]
    },
    {
      "cell_type": "markdown",
      "metadata": {
        "id": "stJNoomm7j6w"
      },
      "source": [
        "####  Visualize the input image, ground truth mask, and predicted mask"
      ]
    },
    {
      "cell_type": "code",
      "execution_count": null,
      "metadata": {
        "colab": {
          "base_uri": "https://localhost:8080/",
          "height": 564
        },
        "id": "88Nwy2z99Z0z",
        "outputId": "d35353ac-5911-493d-a1d4-d70ca4a9211c"
      },
      "outputs": [
        {
          "data": {
            "image/png": "[encoded data removed]",
            "text/plain": [
              "<Figure size 800x600 with 1 Axes>"
            ]
          },
          "metadata": {},
          "output_type": "display_data"
        }
      ],
      "source": [
        "import matplotlib.pyplot as plt\n",
        "\n",
        "\n",
        "# Create the plot\n",
        "plt.figure(figsize=(8, 6))\n",
        "plt.plot(epochs, training_loss, label='Training loss', color='blue')\n",
        "plt.plot(epochs, validation_loss, label='Validation loss', color='red')\n",
        "plt.title('Training and Validation Loss')\n",
        "plt.xlabel('Epochs')\n",
        "plt.ylabel('Loss')\n",
        "plt.ylim(0.033, 0.039)  # Restrict y-axis range from 0.33 to 0.39\n",
        "plt.legend()\n",
        "plt.grid(True)\n",
        "plt.show()\n"
      ]
    },
    {
      "cell_type": "code",
      "execution_count": null,
      "metadata": {},
      "outputs": [],
      "source": [
        "    plt.figure(figsize=(12, 4))\n",
        "    plt.subplot(1, 3, 1)\n",
        "    plt.imshow(image.permute(1, 2, 0).cpu())  # Convert CHW to HWC\n",
        "    plt.title(\"Input Image\")\n",
        "    plt.axis(\"off\")\n",
        "\n",
        "    plt.subplot(1, 3, 2)\n",
        "    plt.imshow(mask.cpu(), cmap=\"gray\")\n",
        "    plt.title(\"Ground Truth Mask\")\n",
        "    plt.axis(\"off\")\n",
        "\n",
        "    plt.subplot(1, 3, 3)\n",
        "    # plt.imshow(predicted_mask.cpu(), cmap=\"gray\")\n",
        "    plt.title(\"Predicted Mask\")\n",
        "    plt.axis(\"off\")\n",
        "\n",
        "    plt.show()\n"
      ]
    },
    {
      "cell_type": "code",
      "execution_count": null,
      "metadata": {
        "colab": {
          "base_uri": "https://localhost:8080/",
          "height": 158
        },
        "id": "J5Thold17QPJ",
        "outputId": "63650c9f-4757-4d25-9d6b-cf7f991bee2f"
      },
      "outputs": [],
      "source": [
        "example_image, example_mask = train_dataset[0]\n",
        "predict_and_visualize(decision_transformer, example_image, example_mask, processor, device)\n"
      ]
    },
    {
      "cell_type": "code",
      "execution_count": null,
      "metadata": {
        "id": "gWHVL7ru7K0p"
      },
      "outputs": [],
      "source": []
    }
  ],
  "metadata": {
    "colab": {
      "provenance": []
    },
    "kernelspec": {
      "display_name": "Python 3",
      "name": "python3"
    },
    "language_info": {
      "codemirror_mode": {
        "name": "ipython",
        "version": 3
      },
      "file_extension": ".py",
      "mimetype": "text/x-python",
      "name": "python",
      "nbconvert_exporter": "python",
      "pygments_lexer": "ipython3",
      "version": "3.12.3"
    },
    "widgets": {
      "application/vnd.jupyter.widget-state+json": {
        "022d79fc63b444949b8d726db0b08ab4": {
          "model_module": "@jupyter-widgets/base",
          "model_module_version": "1.2.0",
          "model_name": "LayoutModel",
          "state": {
            "_model_module": "@jupyter-widgets/base",
            "_model_module_version": "1.2.0",
            "_model_name": "LayoutModel",
            "_view_count": null,
            "_view_module": "@jupyter-widgets/base",
            "_view_module_version": "1.2.0",
            "_view_name": "LayoutView",
            "align_content": null,
            "align_items": null,
            "align_self": null,
            "border": null,
            "bottom": null,
            "display": null,
            "flex": null,
            "flex_flow": null,
            "grid_area": null,
            "grid_auto_columns": null,
            "grid_auto_flow": null,
            "grid_auto_rows": null,
            "grid_column": null,
            "grid_gap": null,
            "grid_row": null,
            "grid_template_areas": null,
            "grid_template_columns": null,
            "grid_template_rows": null,
            "height": null,
            "justify_content": null,
            "justify_items": null,
            "left": null,
            "margin": null,
            "max_height": null,
            "max_width": null,
            "min_height": null,
            "min_width": null,
            "object_fit": null,
            "object_position": null,
            "order": null,
            "overflow": null,
            "overflow_x": null,
            "overflow_y": null,
            "padding": null,
            "right": null,
            "top": null,
            "visibility": null,
            "width": null
          }
        },
        "12c20192af574fe3bd7e281c370063f4": {
          "model_module": "@jupyter-widgets/controls",
          "model_module_version": "1.5.0",
          "model_name": "HBoxModel",
          "state": {
            "_dom_classes": [],
            "_model_module": "@jupyter-widgets/controls",
            "_model_module_version": "1.5.0",
            "_model_name": "HBoxModel",
            "_view_count": null,
            "_view_module": "@jupyter-widgets/controls",
            "_view_module_version": "1.5.0",
            "_view_name": "HBoxView",
            "box_style": "",
            "children": [
              "IPY_MODEL_cd0c92d840934241a035000dca867747",
              "IPY_MODEL_d12c06ae5ede4a228f2ac19e8e84d3f1",
              "IPY_MODEL_b0be1788857e41c6a9aee1d8aa02f207"
            ],
            "layout": "IPY_MODEL_adf07874d7af48afa5647513b3e5249f"
          }
        },
        "16986789889a48d490bd0519b25e5b97": {
          "model_module": "@jupyter-widgets/base",
          "model_module_version": "1.2.0",
          "model_name": "LayoutModel",
          "state": {
            "_model_module": "@jupyter-widgets/base",
            "_model_module_version": "1.2.0",
            "_model_name": "LayoutModel",
            "_view_count": null,
            "_view_module": "@jupyter-widgets/base",
            "_view_module_version": "1.2.0",
            "_view_name": "LayoutView",
            "align_content": null,
            "align_items": null,
            "align_self": null,
            "border": null,
            "bottom": null,
            "display": null,
            "flex": null,
            "flex_flow": null,
            "grid_area": null,
            "grid_auto_columns": null,
            "grid_auto_flow": null,
            "grid_auto_rows": null,
            "grid_column": null,
            "grid_gap": null,
            "grid_row": null,
            "grid_template_areas": null,
            "grid_template_columns": null,
            "grid_template_rows": null,
            "height": null,
            "justify_content": null,
            "justify_items": null,
            "left": null,
            "margin": null,
            "max_height": null,
            "max_width": null,
            "min_height": null,
            "min_width": null,
            "object_fit": null,
            "object_position": null,
            "order": null,
            "overflow": null,
            "overflow_x": null,
            "overflow_y": null,
            "padding": null,
            "right": null,
            "top": null,
            "visibility": null,
            "width": null
          }
        },
        "1982ef26e4e646e684d440b2f699eeed": {
          "model_module": "@jupyter-widgets/base",
          "model_module_version": "1.2.0",
          "model_name": "LayoutModel",
          "state": {
            "_model_module": "@jupyter-widgets/base",
            "_model_module_version": "1.2.0",
            "_model_name": "LayoutModel",
            "_view_count": null,
            "_view_module": "@jupyter-widgets/base",
            "_view_module_version": "1.2.0",
            "_view_name": "LayoutView",
            "align_content": null,
            "align_items": null,
            "align_self": null,
            "border": null,
            "bottom": null,
            "display": null,
            "flex": null,
            "flex_flow": null,
            "grid_area": null,
            "grid_auto_columns": null,
            "grid_auto_flow": null,
            "grid_auto_rows": null,
            "grid_column": null,
            "grid_gap": null,
            "grid_row": null,
            "grid_template_areas": null,
            "grid_template_columns": null,
            "grid_template_rows": null,
            "height": null,
            "justify_content": null,
            "justify_items": null,
            "left": null,
            "margin": null,
            "max_height": null,
            "max_width": null,
            "min_height": null,
            "min_width": null,
            "object_fit": null,
            "object_position": null,
            "order": null,
            "overflow": null,
            "overflow_x": null,
            "overflow_y": null,
            "padding": null,
            "right": null,
            "top": null,
            "visibility": null,
            "width": null
          }
        },
        "29a7a8a02c774968ba923d9b2f9c5af6": {
          "model_module": "@jupyter-widgets/controls",
          "model_module_version": "1.5.0",
          "model_name": "ProgressStyleModel",
          "state": {
            "_model_module": "@jupyter-widgets/controls",
            "_model_module_version": "1.5.0",
            "_model_name": "ProgressStyleModel",
            "_view_count": null,
            "_view_module": "@jupyter-widgets/base",
            "_view_module_version": "1.2.0",
            "_view_name": "StyleView",
            "bar_color": null,
            "description_width": ""
          }
        },
        "3987f31de42f4c00a672625f730dc181": {
          "model_module": "@jupyter-widgets/controls",
          "model_module_version": "1.5.0",
          "model_name": "ProgressStyleModel",
          "state": {
            "_model_module": "@jupyter-widgets/controls",
            "_model_module_version": "1.5.0",
            "_model_name": "ProgressStyleModel",
            "_view_count": null,
            "_view_module": "@jupyter-widgets/base",
            "_view_module_version": "1.2.0",
            "_view_name": "StyleView",
            "bar_color": null,
            "description_width": ""
          }
        },
        "4427389359eb47e3a6f3cb6a53964570": {
          "model_module": "@jupyter-widgets/base",
          "model_module_version": "1.2.0",
          "model_name": "LayoutModel",
          "state": {
            "_model_module": "@jupyter-widgets/base",
            "_model_module_version": "1.2.0",
            "_model_name": "LayoutModel",
            "_view_count": null,
            "_view_module": "@jupyter-widgets/base",
            "_view_module_version": "1.2.0",
            "_view_name": "LayoutView",
            "align_content": null,
            "align_items": null,
            "align_self": null,
            "border": null,
            "bottom": null,
            "display": null,
            "flex": null,
            "flex_flow": null,
            "grid_area": null,
            "grid_auto_columns": null,
            "grid_auto_flow": null,
            "grid_auto_rows": null,
            "grid_column": null,
            "grid_gap": null,
            "grid_row": null,
            "grid_template_areas": null,
            "grid_template_columns": null,
            "grid_template_rows": null,
            "height": null,
            "justify_content": null,
            "justify_items": null,
            "left": null,
            "margin": null,
            "max_height": null,
            "max_width": null,
            "min_height": null,
            "min_width": null,
            "object_fit": null,
            "object_position": null,
            "order": null,
            "overflow": null,
            "overflow_x": null,
            "overflow_y": null,
            "padding": null,
            "right": null,
            "top": null,
            "visibility": null,
            "width": null
          }
        },
        "465defbb7c914499a2fd4f2f10f5c726": {
          "model_module": "@jupyter-widgets/base",
          "model_module_version": "1.2.0",
          "model_name": "LayoutModel",
          "state": {
            "_model_module": "@jupyter-widgets/base",
            "_model_module_version": "1.2.0",
            "_model_name": "LayoutModel",
            "_view_count": null,
            "_view_module": "@jupyter-widgets/base",
            "_view_module_version": "1.2.0",
            "_view_name": "LayoutView",
            "align_content": null,
            "align_items": null,
            "align_self": null,
            "border": null,
            "bottom": null,
            "display": null,
            "flex": null,
            "flex_flow": null,
            "grid_area": null,
            "grid_auto_columns": null,
            "grid_auto_flow": null,
            "grid_auto_rows": null,
            "grid_column": null,
            "grid_gap": null,
            "grid_row": null,
            "grid_template_areas": null,
            "grid_template_columns": null,
            "grid_template_rows": null,
            "height": null,
            "justify_content": null,
            "justify_items": null,
            "left": null,
            "margin": null,
            "max_height": null,
            "max_width": null,
            "min_height": null,
            "min_width": null,
            "object_fit": null,
            "object_position": null,
            "order": null,
            "overflow": null,
            "overflow_x": null,
            "overflow_y": null,
            "padding": null,
            "right": null,
            "top": null,
            "visibility": null,
            "width": null
          }
        },
        "550da86fa3764b93a025e04ec876ab9a": {
          "model_module": "@jupyter-widgets/controls",
          "model_module_version": "1.5.0",
          "model_name": "FloatProgressModel",
          "state": {
            "_dom_classes": [],
            "_model_module": "@jupyter-widgets/controls",
            "_model_module_version": "1.5.0",
            "_model_name": "FloatProgressModel",
            "_view_count": null,
            "_view_module": "@jupyter-widgets/controls",
            "_view_module_version": "1.5.0",
            "_view_name": "ProgressView",
            "bar_style": "success",
            "description": "",
            "description_tooltip": null,
            "layout": "IPY_MODEL_b769f364765b43a0ae73d5fb6a7beb61",
            "max": 502,
            "min": 0,
            "orientation": "horizontal",
            "style": "IPY_MODEL_6d7e2af5c4974f669529214f69dc718c",
            "value": 502
          }
        },
        "562fdbcd52c7420285244017301154f7": {
          "model_module": "@jupyter-widgets/controls",
          "model_module_version": "1.5.0",
          "model_name": "HTMLModel",
          "state": {
            "_dom_classes": [],
            "_model_module": "@jupyter-widgets/controls",
            "_model_module_version": "1.5.0",
            "_model_name": "HTMLModel",
            "_view_count": null,
            "_view_module": "@jupyter-widgets/controls",
            "_view_module_version": "1.5.0",
            "_view_name": "HTMLView",
            "description": "",
            "description_tooltip": null,
            "layout": "IPY_MODEL_8d464069517e4b108a046920c13f1987",
            "placeholder": "​",
            "style": "IPY_MODEL_b5e7042c1d2d4348a923aa3e5431cd45",
            "value": " 502/502 [00:00&lt;00:00, 10.4kB/s]"
          }
        },
        "6adf88ca7c90433c964c3840a70a8efe": {
          "model_module": "@jupyter-widgets/controls",
          "model_module_version": "1.5.0",
          "model_name": "DescriptionStyleModel",
          "state": {
            "_model_module": "@jupyter-widgets/controls",
            "_model_module_version": "1.5.0",
            "_model_name": "DescriptionStyleModel",
            "_view_count": null,
            "_view_module": "@jupyter-widgets/base",
            "_view_module_version": "1.2.0",
            "_view_name": "StyleView",
            "description_width": ""
          }
        },
        "6d7e2af5c4974f669529214f69dc718c": {
          "model_module": "@jupyter-widgets/controls",
          "model_module_version": "1.5.0",
          "model_name": "ProgressStyleModel",
          "state": {
            "_model_module": "@jupyter-widgets/controls",
            "_model_module_version": "1.5.0",
            "_model_name": "ProgressStyleModel",
            "_view_count": null,
            "_view_module": "@jupyter-widgets/base",
            "_view_module_version": "1.2.0",
            "_view_name": "StyleView",
            "bar_color": null,
            "description_width": ""
          }
        },
        "6e0944527f054b17903676bd333be628": {
          "model_module": "@jupyter-widgets/controls",
          "model_module_version": "1.5.0",
          "model_name": "HBoxModel",
          "state": {
            "_dom_classes": [],
            "_model_module": "@jupyter-widgets/controls",
            "_model_module_version": "1.5.0",
            "_model_name": "HBoxModel",
            "_view_count": null,
            "_view_module": "@jupyter-widgets/controls",
            "_view_module_version": "1.5.0",
            "_view_name": "HBoxView",
            "box_style": "",
            "children": [
              "IPY_MODEL_aff9346a56c6441ba51284590b4a7e33",
              "IPY_MODEL_550da86fa3764b93a025e04ec876ab9a",
              "IPY_MODEL_562fdbcd52c7420285244017301154f7"
            ],
            "layout": "IPY_MODEL_cc09248352264864b032abc7fc973af8"
          }
        },
        "713ec61cef324409ac838d10e7a25cfc": {
          "model_module": "@jupyter-widgets/controls",
          "model_module_version": "1.5.0",
          "model_name": "FloatProgressModel",
          "state": {
            "_dom_classes": [],
            "_model_module": "@jupyter-widgets/controls",
            "_model_module_version": "1.5.0",
            "_model_name": "FloatProgressModel",
            "_view_count": null,
            "_view_module": "@jupyter-widgets/controls",
            "_view_module_version": "1.5.0",
            "_view_name": "ProgressView",
            "bar_style": "success",
            "description": "",
            "description_tooltip": null,
            "layout": "IPY_MODEL_022d79fc63b444949b8d726db0b08ab4",
            "max": 345579424,
            "min": 0,
            "orientation": "horizontal",
            "style": "IPY_MODEL_3987f31de42f4c00a672625f730dc181",
            "value": 345579424
          }
        },
        "82c5d8649c474276910794f39a55a8fe": {
          "model_module": "@jupyter-widgets/base",
          "model_module_version": "1.2.0",
          "model_name": "LayoutModel",
          "state": {
            "_model_module": "@jupyter-widgets/base",
            "_model_module_version": "1.2.0",
            "_model_name": "LayoutModel",
            "_view_count": null,
            "_view_module": "@jupyter-widgets/base",
            "_view_module_version": "1.2.0",
            "_view_name": "LayoutView",
            "align_content": null,
            "align_items": null,
            "align_self": null,
            "border": null,
            "bottom": null,
            "display": null,
            "flex": null,
            "flex_flow": null,
            "grid_area": null,
            "grid_auto_columns": null,
            "grid_auto_flow": null,
            "grid_auto_rows": null,
            "grid_column": null,
            "grid_gap": null,
            "grid_row": null,
            "grid_template_areas": null,
            "grid_template_columns": null,
            "grid_template_rows": null,
            "height": null,
            "justify_content": null,
            "justify_items": null,
            "left": null,
            "margin": null,
            "max_height": null,
            "max_width": null,
            "min_height": null,
            "min_width": null,
            "object_fit": null,
            "object_position": null,
            "order": null,
            "overflow": null,
            "overflow_x": null,
            "overflow_y": null,
            "padding": null,
            "right": null,
            "top": null,
            "visibility": null,
            "width": null
          }
        },
        "8d464069517e4b108a046920c13f1987": {
          "model_module": "@jupyter-widgets/base",
          "model_module_version": "1.2.0",
          "model_name": "LayoutModel",
          "state": {
            "_model_module": "@jupyter-widgets/base",
            "_model_module_version": "1.2.0",
            "_model_name": "LayoutModel",
            "_view_count": null,
            "_view_module": "@jupyter-widgets/base",
            "_view_module_version": "1.2.0",
            "_view_name": "LayoutView",
            "align_content": null,
            "align_items": null,
            "align_self": null,
            "border": null,
            "bottom": null,
            "display": null,
            "flex": null,
            "flex_flow": null,
            "grid_area": null,
            "grid_auto_columns": null,
            "grid_auto_flow": null,
            "grid_auto_rows": null,
            "grid_column": null,
            "grid_gap": null,
            "grid_row": null,
            "grid_template_areas": null,
            "grid_template_columns": null,
            "grid_template_rows": null,
            "height": null,
            "justify_content": null,
            "justify_items": null,
            "left": null,
            "margin": null,
            "max_height": null,
            "max_width": null,
            "min_height": null,
            "min_width": null,
            "object_fit": null,
            "object_position": null,
            "order": null,
            "overflow": null,
            "overflow_x": null,
            "overflow_y": null,
            "padding": null,
            "right": null,
            "top": null,
            "visibility": null,
            "width": null
          }
        },
        "8e33b4b8e75e4c8b86f6adc60d37016b": {
          "model_module": "@jupyter-widgets/controls",
          "model_module_version": "1.5.0",
          "model_name": "DescriptionStyleModel",
          "state": {
            "_model_module": "@jupyter-widgets/controls",
            "_model_module_version": "1.5.0",
            "_model_name": "DescriptionStyleModel",
            "_view_count": null,
            "_view_module": "@jupyter-widgets/base",
            "_view_module_version": "1.2.0",
            "_view_name": "StyleView",
            "description_width": ""
          }
        },
        "9884a3cb03d64bcb9033949264c380af": {
          "model_module": "@jupyter-widgets/base",
          "model_module_version": "1.2.0",
          "model_name": "LayoutModel",
          "state": {
            "_model_module": "@jupyter-widgets/base",
            "_model_module_version": "1.2.0",
            "_model_name": "LayoutModel",
            "_view_count": null,
            "_view_module": "@jupyter-widgets/base",
            "_view_module_version": "1.2.0",
            "_view_name": "LayoutView",
            "align_content": null,
            "align_items": null,
            "align_self": null,
            "border": null,
            "bottom": null,
            "display": null,
            "flex": null,
            "flex_flow": null,
            "grid_area": null,
            "grid_auto_columns": null,
            "grid_auto_flow": null,
            "grid_auto_rows": null,
            "grid_column": null,
            "grid_gap": null,
            "grid_row": null,
            "grid_template_areas": null,
            "grid_template_columns": null,
            "grid_template_rows": null,
            "height": null,
            "justify_content": null,
            "justify_items": null,
            "left": null,
            "margin": null,
            "max_height": null,
            "max_width": null,
            "min_height": null,
            "min_width": null,
            "object_fit": null,
            "object_position": null,
            "order": null,
            "overflow": null,
            "overflow_x": null,
            "overflow_y": null,
            "padding": null,
            "right": null,
            "top": null,
            "visibility": null,
            "width": null
          }
        },
        "a13a5a6f8c544d669ed9aedec5983a00": {
          "model_module": "@jupyter-widgets/controls",
          "model_module_version": "1.5.0",
          "model_name": "HBoxModel",
          "state": {
            "_dom_classes": [],
            "_model_module": "@jupyter-widgets/controls",
            "_model_module_version": "1.5.0",
            "_model_name": "HBoxModel",
            "_view_count": null,
            "_view_module": "@jupyter-widgets/controls",
            "_view_module_version": "1.5.0",
            "_view_name": "HBoxView",
            "box_style": "",
            "children": [
              "IPY_MODEL_ec2713a9c4634fbca13aa86313ea8cd4",
              "IPY_MODEL_713ec61cef324409ac838d10e7a25cfc",
              "IPY_MODEL_dcdd81931b094e73bc76c5a6f62b46e0"
            ],
            "layout": "IPY_MODEL_16986789889a48d490bd0519b25e5b97"
          }
        },
        "aa625f322c694d07954dad1ab85c5d1b": {
          "model_module": "@jupyter-widgets/controls",
          "model_module_version": "1.5.0",
          "model_name": "DescriptionStyleModel",
          "state": {
            "_model_module": "@jupyter-widgets/controls",
            "_model_module_version": "1.5.0",
            "_model_name": "DescriptionStyleModel",
            "_view_count": null,
            "_view_module": "@jupyter-widgets/base",
            "_view_module_version": "1.2.0",
            "_view_name": "StyleView",
            "description_width": ""
          }
        },
        "adf07874d7af48afa5647513b3e5249f": {
          "model_module": "@jupyter-widgets/base",
          "model_module_version": "1.2.0",
          "model_name": "LayoutModel",
          "state": {
            "_model_module": "@jupyter-widgets/base",
            "_model_module_version": "1.2.0",
            "_model_name": "LayoutModel",
            "_view_count": null,
            "_view_module": "@jupyter-widgets/base",
            "_view_module_version": "1.2.0",
            "_view_name": "LayoutView",
            "align_content": null,
            "align_items": null,
            "align_self": null,
            "border": null,
            "bottom": null,
            "display": null,
            "flex": null,
            "flex_flow": null,
            "grid_area": null,
            "grid_auto_columns": null,
            "grid_auto_flow": null,
            "grid_auto_rows": null,
            "grid_column": null,
            "grid_gap": null,
            "grid_row": null,
            "grid_template_areas": null,
            "grid_template_columns": null,
            "grid_template_rows": null,
            "height": null,
            "justify_content": null,
            "justify_items": null,
            "left": null,
            "margin": null,
            "max_height": null,
            "max_width": null,
            "min_height": null,
            "min_width": null,
            "object_fit": null,
            "object_position": null,
            "order": null,
            "overflow": null,
            "overflow_x": null,
            "overflow_y": null,
            "padding": null,
            "right": null,
            "top": null,
            "visibility": null,
            "width": null
          }
        },
        "aff9346a56c6441ba51284590b4a7e33": {
          "model_module": "@jupyter-widgets/controls",
          "model_module_version": "1.5.0",
          "model_name": "HTMLModel",
          "state": {
            "_dom_classes": [],
            "_model_module": "@jupyter-widgets/controls",
            "_model_module_version": "1.5.0",
            "_model_name": "HTMLModel",
            "_view_count": null,
            "_view_module": "@jupyter-widgets/controls",
            "_view_module_version": "1.5.0",
            "_view_name": "HTMLView",
            "description": "",
            "description_tooltip": null,
            "layout": "IPY_MODEL_4427389359eb47e3a6f3cb6a53964570",
            "placeholder": "​",
            "style": "IPY_MODEL_8e33b4b8e75e4c8b86f6adc60d37016b",
            "value": "config.json: 100%"
          }
        },
        "b0be1788857e41c6a9aee1d8aa02f207": {
          "model_module": "@jupyter-widgets/controls",
          "model_module_version": "1.5.0",
          "model_name": "HTMLModel",
          "state": {
            "_dom_classes": [],
            "_model_module": "@jupyter-widgets/controls",
            "_model_module_version": "1.5.0",
            "_model_name": "HTMLModel",
            "_view_count": null,
            "_view_module": "@jupyter-widgets/controls",
            "_view_module_version": "1.5.0",
            "_view_name": "HTMLView",
            "description": "",
            "description_tooltip": null,
            "layout": "IPY_MODEL_82c5d8649c474276910794f39a55a8fe",
            "placeholder": "​",
            "style": "IPY_MODEL_aa625f322c694d07954dad1ab85c5d1b",
            "value": " 160/160 [00:00&lt;00:00, 1.73kB/s]"
          }
        },
        "b5e7042c1d2d4348a923aa3e5431cd45": {
          "model_module": "@jupyter-widgets/controls",
          "model_module_version": "1.5.0",
          "model_name": "DescriptionStyleModel",
          "state": {
            "_model_module": "@jupyter-widgets/controls",
            "_model_module_version": "1.5.0",
            "_model_name": "DescriptionStyleModel",
            "_view_count": null,
            "_view_module": "@jupyter-widgets/base",
            "_view_module_version": "1.2.0",
            "_view_name": "StyleView",
            "description_width": ""
          }
        },
        "b769f364765b43a0ae73d5fb6a7beb61": {
          "model_module": "@jupyter-widgets/base",
          "model_module_version": "1.2.0",
          "model_name": "LayoutModel",
          "state": {
            "_model_module": "@jupyter-widgets/base",
            "_model_module_version": "1.2.0",
            "_model_name": "LayoutModel",
            "_view_count": null,
            "_view_module": "@jupyter-widgets/base",
            "_view_module_version": "1.2.0",
            "_view_name": "LayoutView",
            "align_content": null,
            "align_items": null,
            "align_self": null,
            "border": null,
            "bottom": null,
            "display": null,
            "flex": null,
            "flex_flow": null,
            "grid_area": null,
            "grid_auto_columns": null,
            "grid_auto_flow": null,
            "grid_auto_rows": null,
            "grid_column": null,
            "grid_gap": null,
            "grid_row": null,
            "grid_template_areas": null,
            "grid_template_columns": null,
            "grid_template_rows": null,
            "height": null,
            "justify_content": null,
            "justify_items": null,
            "left": null,
            "margin": null,
            "max_height": null,
            "max_width": null,
            "min_height": null,
            "min_width": null,
            "object_fit": null,
            "object_position": null,
            "order": null,
            "overflow": null,
            "overflow_x": null,
            "overflow_y": null,
            "padding": null,
            "right": null,
            "top": null,
            "visibility": null,
            "width": null
          }
        },
        "cc09248352264864b032abc7fc973af8": {
          "model_module": "@jupyter-widgets/base",
          "model_module_version": "1.2.0",
          "model_name": "LayoutModel",
          "state": {
            "_model_module": "@jupyter-widgets/base",
            "_model_module_version": "1.2.0",
            "_model_name": "LayoutModel",
            "_view_count": null,
            "_view_module": "@jupyter-widgets/base",
            "_view_module_version": "1.2.0",
            "_view_name": "LayoutView",
            "align_content": null,
            "align_items": null,
            "align_self": null,
            "border": null,
            "bottom": null,
            "display": null,
            "flex": null,
            "flex_flow": null,
            "grid_area": null,
            "grid_auto_columns": null,
            "grid_auto_flow": null,
            "grid_auto_rows": null,
            "grid_column": null,
            "grid_gap": null,
            "grid_row": null,
            "grid_template_areas": null,
            "grid_template_columns": null,
            "grid_template_rows": null,
            "height": null,
            "justify_content": null,
            "justify_items": null,
            "left": null,
            "margin": null,
            "max_height": null,
            "max_width": null,
            "min_height": null,
            "min_width": null,
            "object_fit": null,
            "object_position": null,
            "order": null,
            "overflow": null,
            "overflow_x": null,
            "overflow_y": null,
            "padding": null,
            "right": null,
            "top": null,
            "visibility": null,
            "width": null
          }
        },
        "cd0c92d840934241a035000dca867747": {
          "model_module": "@jupyter-widgets/controls",
          "model_module_version": "1.5.0",
          "model_name": "HTMLModel",
          "state": {
            "_dom_classes": [],
            "_model_module": "@jupyter-widgets/controls",
            "_model_module_version": "1.5.0",
            "_model_name": "HTMLModel",
            "_view_count": null,
            "_view_module": "@jupyter-widgets/controls",
            "_view_module_version": "1.5.0",
            "_view_name": "HTMLView",
            "description": "",
            "description_tooltip": null,
            "layout": "IPY_MODEL_465defbb7c914499a2fd4f2f10f5c726",
            "placeholder": "​",
            "style": "IPY_MODEL_6adf88ca7c90433c964c3840a70a8efe",
            "value": "preprocessor_config.json: 100%"
          }
        },
        "d12c06ae5ede4a228f2ac19e8e84d3f1": {
          "model_module": "@jupyter-widgets/controls",
          "model_module_version": "1.5.0",
          "model_name": "FloatProgressModel",
          "state": {
            "_dom_classes": [],
            "_model_module": "@jupyter-widgets/controls",
            "_model_module_version": "1.5.0",
            "_model_name": "FloatProgressModel",
            "_view_count": null,
            "_view_module": "@jupyter-widgets/controls",
            "_view_module_version": "1.5.0",
            "_view_name": "ProgressView",
            "bar_style": "success",
            "description": "",
            "description_tooltip": null,
            "layout": "IPY_MODEL_e2e8119d9ed94ba7ae90c6be25f821f3",
            "max": 160,
            "min": 0,
            "orientation": "horizontal",
            "style": "IPY_MODEL_29a7a8a02c774968ba923d9b2f9c5af6",
            "value": 160
          }
        },
        "dcdd81931b094e73bc76c5a6f62b46e0": {
          "model_module": "@jupyter-widgets/controls",
          "model_module_version": "1.5.0",
          "model_name": "HTMLModel",
          "state": {
            "_dom_classes": [],
            "_model_module": "@jupyter-widgets/controls",
            "_model_module_version": "1.5.0",
            "_model_name": "HTMLModel",
            "_view_count": null,
            "_view_module": "@jupyter-widgets/controls",
            "_view_module_version": "1.5.0",
            "_view_name": "HTMLView",
            "description": "",
            "description_tooltip": null,
            "layout": "IPY_MODEL_9884a3cb03d64bcb9033949264c380af",
            "placeholder": "​",
            "style": "IPY_MODEL_e5dcd2e8f4f3443c9bddf924f0e24659",
            "value": " 346M/346M [00:03&lt;00:00, 100MB/s]"
          }
        },
        "df40456a72934a1da84fac7f7bf74490": {
          "model_module": "@jupyter-widgets/controls",
          "model_module_version": "1.5.0",
          "model_name": "DescriptionStyleModel",
          "state": {
            "_model_module": "@jupyter-widgets/controls",
            "_model_module_version": "1.5.0",
            "_model_name": "DescriptionStyleModel",
            "_view_count": null,
            "_view_module": "@jupyter-widgets/base",
            "_view_module_version": "1.2.0",
            "_view_name": "StyleView",
            "description_width": ""
          }
        },
        "e2e8119d9ed94ba7ae90c6be25f821f3": {
          "model_module": "@jupyter-widgets/base",
          "model_module_version": "1.2.0",
          "model_name": "LayoutModel",
          "state": {
            "_model_module": "@jupyter-widgets/base",
            "_model_module_version": "1.2.0",
            "_model_name": "LayoutModel",
            "_view_count": null,
            "_view_module": "@jupyter-widgets/base",
            "_view_module_version": "1.2.0",
            "_view_name": "LayoutView",
            "align_content": null,
            "align_items": null,
            "align_self": null,
            "border": null,
            "bottom": null,
            "display": null,
            "flex": null,
            "flex_flow": null,
            "grid_area": null,
            "grid_auto_columns": null,
            "grid_auto_flow": null,
            "grid_auto_rows": null,
            "grid_column": null,
            "grid_gap": null,
            "grid_row": null,
            "grid_template_areas": null,
            "grid_template_columns": null,
            "grid_template_rows": null,
            "height": null,
            "justify_content": null,
            "justify_items": null,
            "left": null,
            "margin": null,
            "max_height": null,
            "max_width": null,
            "min_height": null,
            "min_width": null,
            "object_fit": null,
            "object_position": null,
            "order": null,
            "overflow": null,
            "overflow_x": null,
            "overflow_y": null,
            "padding": null,
            "right": null,
            "top": null,
            "visibility": null,
            "width": null
          }
        },
        "e5dcd2e8f4f3443c9bddf924f0e24659": {
          "model_module": "@jupyter-widgets/controls",
          "model_module_version": "1.5.0",
          "model_name": "DescriptionStyleModel",
          "state": {
            "_model_module": "@jupyter-widgets/controls",
            "_model_module_version": "1.5.0",
            "_model_name": "DescriptionStyleModel",
            "_view_count": null,
            "_view_module": "@jupyter-widgets/base",
            "_view_module_version": "1.2.0",
            "_view_name": "StyleView",
            "description_width": ""
          }
        },
        "ec2713a9c4634fbca13aa86313ea8cd4": {
          "model_module": "@jupyter-widgets/controls",
          "model_module_version": "1.5.0",
          "model_name": "HTMLModel",
          "state": {
            "_dom_classes": [],
            "_model_module": "@jupyter-widgets/controls",
            "_model_module_version": "1.5.0",
            "_model_name": "HTMLModel",
            "_view_count": null,
            "_view_module": "@jupyter-widgets/controls",
            "_view_module_version": "1.5.0",
            "_view_name": "HTMLView",
            "description": "",
            "description_tooltip": null,
            "layout": "IPY_MODEL_1982ef26e4e646e684d440b2f699eeed",
            "placeholder": "​",
            "style": "IPY_MODEL_df40456a72934a1da84fac7f7bf74490",
            "value": "model.safetensors: 100%"
          }
        }
      }
    }
  },
  "nbformat": 4,
  "nbformat_minor": 0
}
